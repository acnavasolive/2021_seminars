{
  "nbformat": 4,
  "nbformat_minor": 5,
  "metadata": {
    "kernelspec": {
      "display_name": "Python 3",
      "language": "python",
      "name": "python3"
    },
    "language_info": {
      "codemirror_mode": {
        "name": "ipython",
        "version": 3
      },
      "file_extension": ".py",
      "mimetype": "text/x-python",
      "name": "python",
      "nbconvert_exporter": "python",
      "pygments_lexer": "ipython3",
      "version": "3.8.5"
    },
    "colab": {
      "name": "02_ControlFlowTools.ipynb",
      "provenance": [],
      "include_colab_link": true
    }
  },
  "cells": [
    {
      "cell_type": "markdown",
      "metadata": {
        "id": "view-in-github",
        "colab_type": "text"
      },
      "source": [
        "<a href=\"https://colab.research.google.com/github/acnavasolive/2021_seminars/blob/main/02_ControlFlowTools.ipynb\" target=\"_parent\"><img src=\"https://colab.research.google.com/assets/colab-badge.svg\" alt=\"Open In Colab\"/></a>"
      ]
    },
    {
      "cell_type": "markdown",
      "metadata": {
        "id": "38375e8b"
      },
      "source": [
        "# 2. More Control Flow Tools\n",
        "\n",
        "We will follow a standard python tutorial offered by python \n",
        "so you have a reference with which to go further\n",
        "\n",
        "Complete tutorial: <a href=\"https://docs.python.org/3/tutorial/controlflow.html\" target=\"_blank\">More Control Flow Tools </a>\n",
        "\n",
        "Besides the while statement just introduced, Python uses the usual flow control statements known from other languages, with some twists."
      ],
      "id": "38375e8b"
    },
    {
      "cell_type": "markdown",
      "metadata": {
        "id": "67df5551"
      },
      "source": [
        "## 2.1 if Statements\n",
        "Perhaps the most well-known statement type is the if statement. For example:"
      ],
      "id": "67df5551"
    },
    {
      "cell_type": "code",
      "metadata": {
        "id": "a81f43dd"
      },
      "source": [
        "# Input a number\n",
        "x = int(input(\"Please enter an integer: \"))\n",
        "\n",
        "# Check if it is negative... \n",
        "if x < 0:\n",
        "    x = 0\n",
        "    print('Negative changed to zero')\n",
        "\n",
        "# ... if it is zero\n",
        "elif x == 0:\n",
        "    print('Zero')\n",
        "\n",
        "# ... if it is one\n",
        "elif x == 1:\n",
        "    print('Single')\n",
        "\n",
        "# ... or if it is anything else\n",
        "else:\n",
        "    print('More')"
      ],
      "id": "a81f43dd",
      "execution_count": null,
      "outputs": []
    },
    {
      "cell_type": "markdown",
      "metadata": {
        "id": "3ebe3178"
      },
      "source": [
        "There can be zero or more elif parts, and the else part is optional. \n",
        "The keyword ‘elif’ is short for ‘else if’, and is useful to avoid excessive \n",
        "indentation. An if … elif … elif … sequence is a substitute for the switch or \n",
        "case statements found in other languages.\n",
        "\n",
        "\n",
        "## 2.2. for Statements\n",
        "\n",
        "The for statement in Python differs a bit from what you may be used to in C or Pascal. \n",
        "Rather than always iterating over an arithmetic progression of numbers (like in Pascal), or giving the user the ability to define both the iteration step and halting condition (as C), Python’s for statement iterates over the items of any sequence (a list or a string), in the order that they appear in the sequence. For example (no pun intended):"
      ],
      "id": "3ebe3178"
    },
    {
      "cell_type": "code",
      "metadata": {
        "id": "ade22e90"
      },
      "source": [
        "# Measure some strings:\n",
        "words = ['cat', 'window', 'defenestrate']\n",
        "\n",
        "for word in words:\n",
        "    print(word, len(word))"
      ],
      "id": "ade22e90",
      "execution_count": null,
      "outputs": []
    },
    {
      "cell_type": "code",
      "metadata": {
        "id": "b4377238"
      },
      "source": [
        "words = ['cat', 'window', 'defenestrate']\n",
        "\n",
        "for word in words:\n",
        "    if word == 'cat':\n",
        "        print(word, len(word))"
      ],
      "id": "b4377238",
      "execution_count": null,
      "outputs": []
    },
    {
      "cell_type": "markdown",
      "metadata": {
        "id": "e5de0ccb"
      },
      "source": [
        "## 2.3. The range() Function\n",
        "\n",
        "If you do need to iterate over a sequence of numbers, the built-in function range() comes in handy.\n",
        "It generates arithmetic progressions:"
      ],
      "id": "e5de0ccb"
    },
    {
      "cell_type": "code",
      "metadata": {
        "id": "96897ade"
      },
      "source": [
        "for i in range(5):\n",
        "    print(i)"
      ],
      "id": "96897ade",
      "execution_count": null,
      "outputs": []
    },
    {
      "cell_type": "markdown",
      "metadata": {
        "id": "123c51a3"
      },
      "source": [
        "The given end point is never part of the generated sequence; range(10) generates 10 values, the \n",
        "legal indices for items of a sequence of length 10. It is possible to let the range start at another number, or to specify a different increment (even negative; sometimes this is called the ‘step’):"
      ],
      "id": "123c51a3"
    },
    {
      "cell_type": "code",
      "metadata": {
        "id": "4d4b5422"
      },
      "source": [
        "print(list(range(5, 10)))"
      ],
      "id": "4d4b5422",
      "execution_count": null,
      "outputs": []
    },
    {
      "cell_type": "code",
      "metadata": {
        "id": "3e1a3f0d"
      },
      "source": [
        "print(list(range(0, 10, 3)))"
      ],
      "id": "3e1a3f0d",
      "execution_count": null,
      "outputs": []
    },
    {
      "cell_type": "code",
      "metadata": {
        "id": "99ec2281"
      },
      "source": [
        "print(list(range(-10, -100, -30)))"
      ],
      "id": "99ec2281",
      "execution_count": null,
      "outputs": []
    },
    {
      "cell_type": "markdown",
      "metadata": {
        "id": "98995b36"
      },
      "source": [
        "To iterate over the indices of a sequence, you can combine range() and len() as follows:"
      ],
      "id": "98995b36"
    },
    {
      "cell_type": "code",
      "metadata": {
        "id": "b1e3c2dd"
      },
      "source": [
        "a = ['Mary', 'had', 'a', 'little', 'lamb']\n",
        "for i in range(len(a)):\n",
        "    print(i, a[i])"
      ],
      "id": "b1e3c2dd",
      "execution_count": null,
      "outputs": []
    },
    {
      "cell_type": "markdown",
      "metadata": {
        "id": "f8cef568"
      },
      "source": [
        "In most such cases, however, it is convenient to use the enumerate() function, \n",
        "which provides both indexing and item"
      ],
      "id": "f8cef568"
    },
    {
      "cell_type": "code",
      "metadata": {
        "id": "ad04e8c4"
      },
      "source": [
        "words = ['cat', 'window', 'defenestrate']\n",
        "\n",
        "for i, word in enumerate(words):\n",
        "    print(i, word, words[i], len(word))"
      ],
      "id": "ad04e8c4",
      "execution_count": null,
      "outputs": []
    },
    {
      "cell_type": "markdown",
      "metadata": {
        "id": "464c9a37"
      },
      "source": [
        "A strange thing happens if you just print a range:"
      ],
      "id": "464c9a37"
    },
    {
      "cell_type": "code",
      "metadata": {
        "id": "df43fd36"
      },
      "source": [
        "range(10)"
      ],
      "id": "df43fd36",
      "execution_count": null,
      "outputs": []
    },
    {
      "cell_type": "markdown",
      "metadata": {
        "id": "6da4c32c"
      },
      "source": [
        "In many ways the object returned by range() behaves as if it is a list, but in fact it isn’t. \n",
        "It is an object which returns the successive items of the desired sequence when you iterate over it, \n",
        "but it doesn’t really make the list, thus saving space.\n",
        "\n",
        "We say such an object is iterable, that is, suitable as a target for functions and constructs that expect \n",
        "something from which they can obtain successive items until the supply is exhausted. We have seen that the for statement is such a construct, while an example of a function that takes an iterable is sum():"
      ],
      "id": "6da4c32c"
    },
    {
      "cell_type": "code",
      "metadata": {
        "id": "c46e3e86"
      },
      "source": [
        "sum(range(4))  # 0 + 1 + 2 + 3"
      ],
      "id": "c46e3e86",
      "execution_count": null,
      "outputs": []
    },
    {
      "cell_type": "markdown",
      "metadata": {
        "id": "0f90a394"
      },
      "source": [
        "Later we will see more functions that return iterables and take iterables as arguments. \n",
        "In tutorial Data Structures, we will discuss in more detail about list()."
      ],
      "id": "0f90a394"
    },
    {
      "cell_type": "markdown",
      "metadata": {
        "id": "fb78040e"
      },
      "source": [
        "## 2.4. Defining Functions"
      ],
      "id": "fb78040e"
    },
    {
      "cell_type": "markdown",
      "metadata": {
        "id": "1e722819"
      },
      "source": [
        "We can create a function that writes the Fibonacci series to an arbitrary boundary:"
      ],
      "id": "1e722819"
    },
    {
      "cell_type": "code",
      "metadata": {
        "id": "a9cefe4b"
      },
      "source": [
        "def fib(n):    # write Fibonacci series up to n\n",
        "    \"\"\"Print a Fibonacci series up to n.\"\"\"\n",
        "    a, b = 0, 1\n",
        "    while a < n:\n",
        "        print(a, end=' ')\n",
        "        a, b = b, a+b\n",
        "    print()   # print extra empty line"
      ],
      "id": "a9cefe4b",
      "execution_count": null,
      "outputs": []
    },
    {
      "cell_type": "code",
      "metadata": {
        "id": "702c6bbb"
      },
      "source": [
        "# Now call the function we just defined:\n",
        "fib(2000)"
      ],
      "id": "702c6bbb",
      "execution_count": null,
      "outputs": []
    },
    {
      "cell_type": "markdown",
      "metadata": {
        "id": "fb1a069e"
      },
      "source": [
        "The keyword `def` introduces a function definition. It must be followed by the function name and the parenthesized \n",
        "list of formal parameters. The statements that form the body of the function start at the next line, and must be indented.\n",
        "\n",
        "The first statement of the function body can optionally be a string literal; this string literal is the \n",
        "function’s documentation string, or docstring. \n",
        "\n",
        "New values created inside the function are deleted after ending the execution"
      ],
      "id": "fb1a069e"
    },
    {
      "cell_type": "code",
      "metadata": {
        "id": "a65c7c0a"
      },
      "source": [
        "fib(6)\n",
        "print(a)"
      ],
      "id": "a65c7c0a",
      "execution_count": null,
      "outputs": []
    },
    {
      "cell_type": "markdown",
      "metadata": {
        "id": "a361cfcd"
      },
      "source": [
        "You might object that fib is not a function but a procedure since it doesn’t \n",
        "__return__ a value. In fact, even functions without a `return` statement do return \n",
        "a value called `None` (it’s a built-in name). \n",
        "Writing the value `None` is normally suppressed by the interpreter if it would be the only value written. \n",
        "You can see it if you really want to using print():"
      ],
      "id": "a361cfcd"
    },
    {
      "cell_type": "code",
      "metadata": {
        "id": "153bfa60"
      },
      "source": [
        "print(fib(0))"
      ],
      "id": "153bfa60",
      "execution_count": null,
      "outputs": []
    },
    {
      "cell_type": "markdown",
      "metadata": {
        "id": "8d63bd58"
      },
      "source": [
        "It is simple to write a function that returns a list of the numbers of the Fibonacci series, instead of printing it:"
      ],
      "id": "8d63bd58"
    },
    {
      "cell_type": "code",
      "metadata": {
        "id": "0b2e9a49"
      },
      "source": [
        "def fib2(n):  # return Fibonacci series up to n\n",
        "\n",
        "    \"\"\"Return a list containing the Fibonacci series up to n.\"\"\"\n",
        "    result = []\n",
        "    a, b = 0, 1\n",
        "    while a < n:\n",
        "        result.append(a)    # see below\n",
        "        a, b = b, a+b\n",
        "    return result\n",
        "\n",
        "f100 = fib2(100)    # call it\n",
        "print(f100)         # write the result"
      ],
      "id": "0b2e9a49",
      "execution_count": null,
      "outputs": []
    },
    {
      "cell_type": "markdown",
      "metadata": {
        "id": "0bfecc61"
      },
      "source": [
        "This example, as usual, demonstrates some new Python features:\n",
        "\n",
        "* The return statement returns with a value from a function. return without an expression \n",
        "argument returns None.\n",
        "\n",
        "* The statement `result.append(a)` calls a __method__ of the list object `result`. A method is a \n",
        "function that ‘belongs’ to an object and is named `obj.methodname`.\n",
        " The method `append()` shown in the example is defined for list objects; it adds a new element at the end of\n",
        "  the list. In this example it is equivalent to `result = result + [a]`, but more efficient."
      ],
      "id": "0bfecc61"
    },
    {
      "cell_type": "markdown",
      "metadata": {
        "id": "eecb576d"
      },
      "source": [
        "## 2.5. Defining Functions"
      ],
      "id": "eecb576d"
    },
    {
      "cell_type": "markdown",
      "metadata": {
        "id": "19a69d60"
      },
      "source": [
        "It is also possible to define functions with a variable number of arguments. There are three forms, which can be combined."
      ],
      "id": "19a69d60"
    },
    {
      "cell_type": "markdown",
      "metadata": {
        "id": "97e32efd"
      },
      "source": [
        "### 2.5.1. Default Argument Values\n",
        "The most useful form is to specify a default value for one or more arguments. This creates a function that \n",
        "can be called with fewer arguments than it is defined to allow. For example:"
      ],
      "id": "97e32efd"
    },
    {
      "cell_type": "code",
      "metadata": {
        "id": "3b50a4a6"
      },
      "source": [
        "def ask_ok(prompt, retries=4, reminder='Please try again!'):\n",
        "    while True:\n",
        "        ok = input(prompt)\n",
        "\n",
        "        if ok in ('y', 'ye', 'yes'):\n",
        "            return True\n",
        "\n",
        "        if ok in ('n', 'no', 'nop', 'nope'):\n",
        "            return False\n",
        "\n",
        "        retries = retries - 1\n",
        "        if retries < 0:\n",
        "            raise ValueError('invalid user response')\n",
        "\n",
        "        print(reminder)"
      ],
      "id": "3b50a4a6",
      "execution_count": null,
      "outputs": []
    },
    {
      "cell_type": "markdown",
      "metadata": {
        "id": "b94d4e8e"
      },
      "source": [
        "This function can be called in several ways:\n",
        "* giving only the mandatory argument: `ask_ok('Do you really want to quit?')`\n",
        "* giving one of the optional arguments: `ask_ok('OK to overwrite the file?', 2)`\n",
        "* or even giving all arguments: `ask_ok('OK to overwrite the file?', 2, 'Come on, only yes or no!')`"
      ],
      "id": "b94d4e8e"
    },
    {
      "cell_type": "code",
      "metadata": {
        "id": "7fc7e001"
      },
      "source": [
        "ask_ok('Do you really want to quit?')"
      ],
      "id": "7fc7e001",
      "execution_count": null,
      "outputs": []
    },
    {
      "cell_type": "code",
      "metadata": {
        "id": "b92698bd"
      },
      "source": [
        "ask_ok('OK to overwrite the file?', 2)"
      ],
      "id": "b92698bd",
      "execution_count": null,
      "outputs": []
    },
    {
      "cell_type": "code",
      "metadata": {
        "id": "1cf090b0"
      },
      "source": [
        "ask_ok('OK to overwrite the file?', 2, 'Come on, only yes or no!')"
      ],
      "id": "1cf090b0",
      "execution_count": null,
      "outputs": []
    },
    {
      "cell_type": "markdown",
      "metadata": {
        "id": "f729655f"
      },
      "source": [
        "This example also introduces the `in` keyword. This tests whether or not a sequence contains a certain value."
      ],
      "id": "f729655f"
    },
    {
      "cell_type": "code",
      "metadata": {
        "id": "e3230dca"
      },
      "source": [
        "print('a' in 'asdf')"
      ],
      "id": "e3230dca",
      "execution_count": null,
      "outputs": []
    },
    {
      "cell_type": "code",
      "metadata": {
        "id": "a0fdd534"
      },
      "source": [
        "print(1 in [1,2,3])"
      ],
      "id": "a0fdd534",
      "execution_count": null,
      "outputs": []
    },
    {
      "cell_type": "code",
      "metadata": {
        "id": "6337a902"
      },
      "source": [
        "print(0 in [1,2,3])"
      ],
      "id": "6337a902",
      "execution_count": null,
      "outputs": []
    },
    {
      "cell_type": "markdown",
      "metadata": {
        "id": "3f5338a4"
      },
      "source": [
        "### 2.5.2. Keyword Arguments\n",
        "Functions can also be called using keyword arguments of the form kwarg=value. For instance, the following function:"
      ],
      "id": "3f5338a4"
    },
    {
      "cell_type": "code",
      "metadata": {
        "id": "ea921a78"
      },
      "source": [
        "def myself(name, age=20, country='Spain'):\n",
        "    print('Hi, I\\'m', name, ', I\\'m', age, 'years old and I live in', country)"
      ],
      "id": "ea921a78",
      "execution_count": null,
      "outputs": []
    },
    {
      "cell_type": "markdown",
      "metadata": {
        "id": "c2c9e791"
      },
      "source": [
        "accepts one required argument (`voltage`) and three optional arguments (`state`, `action`, and `type`). \n",
        "This function can be called in any of the following ways:"
      ],
      "id": "c2c9e791"
    },
    {
      "cell_type": "code",
      "metadata": {
        "id": "ef243d94"
      },
      "source": [
        "myself('Andrea')                     # 1 positional argument"
      ],
      "id": "ef243d94",
      "execution_count": null,
      "outputs": []
    },
    {
      "cell_type": "code",
      "metadata": {
        "id": "051ea809"
      },
      "source": [
        "myself(name='Andrea')                # 1 keyword argument"
      ],
      "id": "051ea809",
      "execution_count": null,
      "outputs": []
    },
    {
      "cell_type": "code",
      "metadata": {
        "id": "77f66d25"
      },
      "source": [
        "myself(name='Andrea', age=25)        # 2 keyword arguments"
      ],
      "id": "77f66d25",
      "execution_count": null,
      "outputs": []
    },
    {
      "cell_type": "code",
      "metadata": {
        "id": "dc3efa21"
      },
      "source": [
        "myself(age=25, name='Andrea')        # 2 keyword arguments"
      ],
      "id": "dc3efa21",
      "execution_count": null,
      "outputs": []
    },
    {
      "cell_type": "code",
      "metadata": {
        "id": "f35e962d"
      },
      "source": [
        "myself('Andrea', 27, 'Russia')       # 3 positional arguments"
      ],
      "id": "f35e962d",
      "execution_count": null,
      "outputs": []
    },
    {
      "cell_type": "code",
      "metadata": {
        "id": "1fedfe95"
      },
      "source": [
        "myself('Andrea', country='Russia')   # 1 positional, 1 keyword"
      ],
      "id": "1fedfe95",
      "execution_count": null,
      "outputs": []
    },
    {
      "cell_type": "markdown",
      "metadata": {
        "id": "5ccd13a3"
      },
      "source": [
        "These won't work:"
      ],
      "id": "5ccd13a3"
    },
    {
      "cell_type": "code",
      "metadata": {
        "id": "5d89ee54"
      },
      "source": [
        "myself()                               # required argument missing"
      ],
      "id": "5d89ee54",
      "execution_count": null,
      "outputs": []
    },
    {
      "cell_type": "code",
      "metadata": {
        "id": "86b7e298"
      },
      "source": [
        "myself('Andrea', name='Andrea')        # duplicate value for the same argument"
      ],
      "id": "86b7e298",
      "execution_count": null,
      "outputs": []
    },
    {
      "cell_type": "code",
      "metadata": {
        "id": "f43c0598"
      },
      "source": [
        "myself(surname='Navas')                # unknown keyword argument"
      ],
      "id": "f43c0598",
      "execution_count": null,
      "outputs": []
    },
    {
      "cell_type": "markdown",
      "metadata": {
        "id": "f1201062"
      },
      "source": [
        "# Exercise"
      ],
      "id": "f1201062"
    },
    {
      "cell_type": "markdown",
      "metadata": {
        "id": "e1b597d8"
      },
      "source": [
        "Create a function `over_threshold` that receives a list of numbers as input and \n",
        "outputs a list only with the indexes of those above a certain `threshold`,\n",
        "which can be an optional second input"
      ],
      "id": "e1b597d8"
    },
    {
      "cell_type": "code",
      "metadata": {
        "id": "741df424"
      },
      "source": [
        "'''\n",
        "Write here your code. \n",
        "Dont forget to write the inputs and substitute None with the proper output\n",
        "'''\n",
        "def over_threshold():\n",
        "    return None"
      ],
      "id": "741df424",
      "execution_count": null,
      "outputs": []
    },
    {
      "cell_type": "code",
      "metadata": {
        "id": "8a9505e8"
      },
      "source": [
        "# Try your function here\n",
        "ripple_prob = [ 0.1, 0.2, 0.5, 0.8, 0.8, 0.6, 0.3, 0.5, 0.6, 0.9, 0.7, 0.4, 0.0 ]\n",
        "idxs_ripples = over_threshold(ripple_prob, threshold=0.75)\n",
        "\n",
        "print(idxs_ripples) # Should be [3, 4, 9]"
      ],
      "id": "8a9505e8",
      "execution_count": null,
      "outputs": []
    }
  ]
}