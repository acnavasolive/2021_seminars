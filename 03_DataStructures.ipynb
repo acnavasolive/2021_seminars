{
  "nbformat": 4,
  "nbformat_minor": 5,
  "metadata": {
    "kernelspec": {
      "display_name": "Python 3",
      "language": "python",
      "name": "python3"
    },
    "language_info": {
      "codemirror_mode": {
        "name": "ipython",
        "version": 3
      },
      "file_extension": ".py",
      "mimetype": "text/x-python",
      "name": "python",
      "nbconvert_exporter": "python",
      "pygments_lexer": "ipython3",
      "version": "3.8.5"
    },
    "colab": {
      "name": "03_DataStructures.ipynb",
      "provenance": [],
      "include_colab_link": true
    }
  },
  "cells": [
    {
      "cell_type": "markdown",
      "metadata": {
        "id": "view-in-github",
        "colab_type": "text"
      },
      "source": [
        "<a href=\"https://colab.research.google.com/github/acnavasolive/2021_seminars/blob/main/03_DataStructures.ipynb\" target=\"_parent\"><img src=\"https://colab.research.google.com/assets/colab-badge.svg\" alt=\"Open In Colab\"/></a>"
      ]
    },
    {
      "cell_type": "markdown",
      "metadata": {
        "id": "7dd6cf96"
      },
      "source": [
        "# 3. Data Structures\n",
        "\n",
        "This tutorial describes some things you’ve learned about already in more detail, \n",
        "and adds some new things as well.\n",
        "\n",
        "Complete tutorial: <a href=\"https://docs.python.org/3/tutorial/datastructures.html\" target=\"_blank\">Data Structures </a>"
      ],
      "id": "7dd6cf96"
    },
    {
      "cell_type": "markdown",
      "metadata": {
        "id": "307085d4"
      },
      "source": [
        "## 3.1 More on Lists\n",
        "\n",
        "### 3.1.1 More methods\n",
        "The list data type has some more methods. Here are some of the methods of list objects:\n",
        "\n",
        "list.__append__(x)\n",
        "    Add an item to the end of the list. Equivalent to `a[len(a):] = [x]`.\n",
        "\n",
        "list.__insert__(i, x)\n",
        "    Insert an item at a given position. The first argument is the index of the element before which to insert, so a.insert(0, x) inserts at the front of the list, and a.insert(len(a), x) is equivalent to `a.append(x)`.\n",
        "\n",
        "list.__remove__(x)\n",
        "    Remove the first item from the list whose value is equal to x. It raises a ValueError if there is no such item.\n",
        "\n",
        "list.__pop__([i])\n",
        "    Remove the item at the given position in the list, and return it. If no index is specified, a.pop() removes and returns the last item in the list. (The square brackets around the i in the method signature denote that the parameter is optional, not that you should type square brackets at that position. You will see this notation frequently in the Python Library Reference.)\n",
        "\n",
        "list.__clear__()\n",
        "    Remove all items from the list. Equivalent to `del a[:]`.\n",
        "\n",
        "list.__index__(x[, start[, end]])\n",
        "    Return zero-based index in the list of the first item whose value is equal to `x`. Raises a ValueError if there is no such item.\n",
        "\n",
        "list.__count__(x)\n",
        "    Return the number of times x appears in the list.\n",
        "\n",
        "list.__sort__(*, key=None, reverse=False)\n",
        "    Sort the items of the list in place (the arguments can be used for sort customization.\n",
        "\n",
        "list.__reverse__()\n",
        "    Reverse the elements of the list in place.\n",
        "\n",
        "list.__copy__()\n",
        "    Return a shallow copy of the list. Equivalent to `a[:]`.\n",
        "\n",
        "An example that uses most of the list methods:"
      ],
      "id": "307085d4"
    },
    {
      "cell_type": "code",
      "metadata": {
        "id": "62236a1d"
      },
      "source": [
        "fruits = ['orange', 'apple', 'pear', 'banana', 'kiwi', 'apple', 'banana']\n",
        "\n",
        "# Count every fruit\n",
        "for fruit in fruits:\n",
        "    print('There are', fruits.count(fruit), fruit+'s')\n",
        "\n",
        "# No tangerines\n",
        "print('There are', fruits.count('tangerine'), 'tangerines')"
      ],
      "id": "62236a1d",
      "execution_count": null,
      "outputs": []
    },
    {
      "cell_type": "code",
      "metadata": {
        "id": "3a4a49fe"
      },
      "source": [
        "print('Index where there is bananas:', fruits.index('banana'))\n",
        "print('Index where there is bananas:', fruits.index('banana', 4))  # Find next banana starting a position 4"
      ],
      "id": "3a4a49fe",
      "execution_count": null,
      "outputs": []
    },
    {
      "cell_type": "code",
      "metadata": {
        "id": "c67f52e2"
      },
      "source": [
        "fruits.sort()\n",
        "print('Fruits sorted by letter:', fruits)"
      ],
      "id": "c67f52e2",
      "execution_count": null,
      "outputs": []
    },
    {
      "cell_type": "code",
      "metadata": {
        "id": "171f3e26"
      },
      "source": [
        "fruits.reverse()\n",
        "print('Reverse our list:', fruits)"
      ],
      "id": "171f3e26",
      "execution_count": null,
      "outputs": []
    },
    {
      "cell_type": "code",
      "metadata": {
        "id": "9913c9c3"
      },
      "source": [
        "fruits.append('grape')\n",
        "print('Add grape to the list:', fruits)"
      ],
      "id": "9913c9c3",
      "execution_count": null,
      "outputs": []
    },
    {
      "cell_type": "code",
      "metadata": {
        "id": "0d550cd5"
      },
      "source": [
        "poped_fruit = fruits.pop()\n",
        "print('Poped fruit:', poped_fruit)\n",
        "print('Fruits list now:', fruits)"
      ],
      "id": "0d550cd5",
      "execution_count": null,
      "outputs": []
    },
    {
      "cell_type": "markdown",
      "metadata": {
        "id": "483ee9b6"
      },
      "source": [
        "## 3.1.2 List comprehensions\n",
        "List comprehensions provide a concise way to create lists. \n",
        "Common applications are to make new lists where each element is the\n",
        "result of some operations applied to each member of another sequence or iterable, \n",
        "or to create a subsequence of those elements that satisfy a certain condition.\n",
        "\n",
        "For example, assume we want to create a list of squares, like:"
      ],
      "id": "483ee9b6"
    },
    {
      "cell_type": "code",
      "metadata": {
        "id": "3fcd9ec6"
      },
      "source": [
        "squares = []\n",
        "for x in range(10):\n",
        "    squares.append(x**2)\n",
        "\n",
        "print(squares)"
      ],
      "id": "3fcd9ec6",
      "execution_count": null,
      "outputs": []
    },
    {
      "cell_type": "markdown",
      "metadata": {
        "id": "8cff4287"
      },
      "source": [
        "Note that this creates (or overwrites) a variable named x that still exists after the loop completes.\n",
        "We can calculate the list of squares without any side effects using:"
      ],
      "id": "8cff4287"
    },
    {
      "cell_type": "code",
      "metadata": {
        "id": "5a0090bc"
      },
      "source": [
        "squares = [x**2 for x in range(10)]"
      ],
      "id": "5a0090bc",
      "execution_count": null,
      "outputs": []
    },
    {
      "cell_type": "markdown",
      "metadata": {
        "id": "d10886c5"
      },
      "source": [
        "which is more concise and readable.\n",
        "\n",
        "A list comprehension consists of brackets containing an expression followed by a \n",
        "for clause, then zero or more for or if clauses. The result will be a new list resulting\n",
        "from evaluating the expression in the context of the for and if clauses which follow it.\n",
        "\n",
        " For example, this listcomp combines the elements of two lists if they are equal:"
      ],
      "id": "d10886c5"
    },
    {
      "cell_type": "code",
      "metadata": {
        "id": "810398e4"
      },
      "source": [
        "#       v                v                v    v     \n",
        "[(x, y) for x in [1,2,3] for y in [3,1,4] if x == y]"
      ],
      "id": "810398e4",
      "execution_count": null,
      "outputs": []
    },
    {
      "cell_type": "markdown",
      "metadata": {
        "id": "4f90b32b"
      },
      "source": [
        ".. and same if they are not equal:"
      ],
      "id": "4f90b32b"
    },
    {
      "cell_type": "code",
      "metadata": {
        "id": "df1b161e"
      },
      "source": [
        "#       v                v                v    v    \n",
        "[(x, y) for x in [1,2,3] for y in [3,1,4] if x != y]"
      ],
      "id": "df1b161e",
      "execution_count": null,
      "outputs": []
    },
    {
      "cell_type": "markdown",
      "metadata": {
        "id": "defe484a"
      },
      "source": [
        "and it’s equivalent to:"
      ],
      "id": "defe484a"
    },
    {
      "cell_type": "code",
      "metadata": {
        "id": "0df0864e"
      },
      "source": [
        "combs = []\n",
        "for x in [1,2,3]:\n",
        "    for y in [3,1,4]:\n",
        "        if x != y:\n",
        "            combs.append((x, y))\n",
        "\n",
        "print(combs)"
      ],
      "id": "0df0864e",
      "execution_count": null,
      "outputs": []
    },
    {
      "cell_type": "markdown",
      "metadata": {
        "id": "fb28e6c3"
      },
      "source": [
        "Note how the order of the for and if statements is the same in both these snippets."
      ],
      "id": "fb28e6c3"
    },
    {
      "cell_type": "markdown",
      "metadata": {
        "id": "c0cfb0be"
      },
      "source": [
        "### Exercise\n",
        "Make a list with the indexes of the sessions that have a \n",
        "ripple probability over a threshold"
      ],
      "id": "c0cfb0be"
    },
    {
      "cell_type": "code",
      "metadata": {
        "id": "332e905a"
      },
      "source": [
        "rip_prob_session_1 = [0.5, 0.7, 0.9, 0.5, 0.3]\n",
        "rip_prob_session_2 = [0.2, 0.0, 0.1, 0.4, 0.4]\n",
        "rip_prob_session_3 = [0.4, 0.5, 0.6, 0.7, 0.8]\n",
        "\n",
        "# List of lists\n",
        "rip_prob_all_sessions = [rip_prob_session_1, \n",
        "                         rip_prob_session_2, \n",
        "                         rip_prob_session_3]\n",
        "\n",
        "# This is how the list of lists looks like\n",
        "print(rip_prob_all_sessions)"
      ],
      "id": "332e905a",
      "execution_count": null,
      "outputs": []
    },
    {
      "cell_type": "code",
      "metadata": {
        "id": "81c64321"
      },
      "source": [
        "threshold = 0.7\n",
        "\n",
        "# Write your code here\n",
        "flatten_list = [  ]"
      ],
      "id": "81c64321",
      "execution_count": null,
      "outputs": []
    },
    {
      "cell_type": "markdown",
      "metadata": {
        "id": "b1ddaa2c"
      },
      "source": [
        "## 3.1.3 Nested List comprehensions\n",
        "The initial expression in a list comprehension can be any \n",
        "arbitrary expression, including another list comprehension.\n",
        "\n",
        "Consider a list of timestamps, and we want to make a list of lists\n",
        "containing an interval of timestamps centered in those of our list"
      ],
      "id": "b1ddaa2c"
    },
    {
      "cell_type": "code",
      "metadata": {
        "id": "1108b280"
      },
      "source": [
        "# Defining our variables\n",
        "timestamps_tagged_ripples = [100, 2500, 4003, 5789]\n",
        "interval = 2\n",
        "\n",
        "# Our list of intervals of timestamps centered at ripple times\n",
        "interval_ripples = [ [timestamp+i for i in range(-interval, interval+1)] \n",
        "                     for timestamp in timestamps_tagged_ripples ]\n",
        "\n",
        "print(interval_ripples)"
      ],
      "id": "1108b280",
      "execution_count": null,
      "outputs": []
    },
    {
      "cell_type": "markdown",
      "metadata": {
        "id": "e42b850c"
      },
      "source": [
        "## 3.2 Tuples\n",
        "A tuple consists of a number of values separated by commas, for instance:"
      ],
      "id": "e42b850c"
    },
    {
      "cell_type": "code",
      "metadata": {
        "id": "fb639111"
      },
      "source": [
        "t = 12345, 54321, 'hello!'\n",
        "print('t:', t)\n",
        "print('t[0]', t[0])"
      ],
      "id": "fb639111",
      "execution_count": null,
      "outputs": []
    },
    {
      "cell_type": "markdown",
      "metadata": {
        "id": "45625edc"
      },
      "source": [
        "They are immutable"
      ],
      "id": "45625edc"
    },
    {
      "cell_type": "code",
      "metadata": {
        "id": "39182c53"
      },
      "source": [
        "t = 12345, 54321, 'hello!'\n",
        "t[0] = 1"
      ],
      "id": "39182c53",
      "execution_count": null,
      "outputs": []
    },
    {
      "cell_type": "markdown",
      "metadata": {
        "id": "2acc823c"
      },
      "source": [
        "They can be nested"
      ],
      "id": "2acc823c"
    },
    {
      "cell_type": "code",
      "metadata": {
        "id": "c2ea2df4"
      },
      "source": [
        "t = (12345, 54321), 'hello!'\n",
        "print('t =', t)\n",
        "print('t[0] =', t[0])"
      ],
      "id": "c2ea2df4",
      "execution_count": null,
      "outputs": []
    },
    {
      "cell_type": "markdown",
      "metadata": {
        "id": "85bb2ec8"
      },
      "source": [
        "We can assign different variables to each element"
      ],
      "id": "85bb2ec8"
    },
    {
      "cell_type": "code",
      "metadata": {
        "id": "d3857911"
      },
      "source": [
        "t = 12345, 54321, 'hello!'\n",
        "a, b, c = t\n",
        "print('a =', a)\n",
        "print('b =', b)\n",
        "print('c =', c)"
      ],
      "id": "d3857911",
      "execution_count": null,
      "outputs": []
    },
    {
      "cell_type": "markdown",
      "metadata": {
        "id": "7e782411"
      },
      "source": [
        "In fact this is what happens when we return multiple arguments of a function"
      ],
      "id": "7e782411"
    },
    {
      "cell_type": "code",
      "metadata": {
        "id": "4a786b2f"
      },
      "source": [
        "def many_outputs():\n",
        "    output_1 = 'a'\n",
        "    output_2 = 'b'\n",
        "    output_3 = 'c'\n",
        "    output_4 = 'd'\n",
        "    return output_1, output_2, output_3, output_4\n",
        "\n",
        "# Let's see the output\n",
        "x = many_outputs()\n",
        "print('x =', x)\n",
        "\n",
        "# Can we \"desnest\" it?\n",
        "x1, x2, x3, x4 = many_outputs()\n",
        "print('x1 =', x1)\n",
        "print('x2 =', x2)\n",
        "print('x3 =', x3)\n",
        "print('x4 =', x4)"
      ],
      "id": "4a786b2f",
      "execution_count": null,
      "outputs": []
    },
    {
      "cell_type": "markdown",
      "metadata": {
        "id": "769a675a"
      },
      "source": [
        "## 3.3 Dictionaries\n",
        "Another useful data type built into Python is the dictionary\n",
        "Unlike sequences, which are indexed by a range of numbers, dictionaries are indexed by keys\n",
        "\n",
        "It is best to think of a dictionary as a set of key: value pairs, with the requirement\n",
        "that the keys are unique (within one dictionary). A pair of braces creates an empty dictionary: \n",
        "{}. Placing a comma-separated list of key:value pairs within the braces adds initial key:value \n",
        "pairs to the dictionary; this is also the way dictionaries are written on output.\n",
        "\n",
        "Performing list(d) on a dictionary returns a list of all the keys used in the dictionary, \n",
        "in insertion order (if you want it sorted, just use sorted(d) instead). To check whether a \n",
        "single key is in the dictionary, use the in keyword.\n",
        "\n",
        "Here is a small example using a dictionary:"
      ],
      "id": "769a675a"
    },
    {
      "cell_type": "code",
      "metadata": {
        "id": "dc63030d"
      },
      "source": [
        "performances = {'method_1': 0.5, \n",
        "                'method_2': 0.2,\n",
        "                'method_3': 0.8}\n",
        "\n",
        "# Print diccionary\n",
        "print('performances = ', performances)\n",
        "\n",
        "# Print keys\n",
        "print('List of keys of performances = ', list(performances))\n",
        "print('Sorted keys of performances = ', sorted(performances))\n",
        "print('Calling .keys() method = ', performances.keys())\n",
        "\n",
        "# Check if there is a key in our dictionary\n",
        "for method_name in ['method_1', 'method_4']:\n",
        "    is_in = method_name in performances\n",
        "    print('Is '+method_name+'?', is_in)"
      ],
      "id": "dc63030d",
      "execution_count": null,
      "outputs": []
    },
    {
      "cell_type": "code",
      "metadata": {
        "id": "16bba299"
      },
      "source": [
        "performances = {'method_1': [0.5, 0.4], \n",
        "                'method_2': [0.2, 0.2],\n",
        "                'method_3': [0.8, 0.1]}\n",
        "\n",
        "# Print values of each method\n",
        "for method in performances:\n",
        "    for p in performances[method]:\n",
        "        print(method, p)"
      ],
      "id": "16bba299",
      "execution_count": null,
      "outputs": []
    },
    {
      "cell_type": "markdown",
      "metadata": {
        "id": "e228143a"
      },
      "source": [
        "The dict() constructor builds dictionaries directly from sequences of key-value pairs:"
      ],
      "id": "e228143a"
    },
    {
      "cell_type": "code",
      "metadata": {
        "id": "de434076"
      },
      "source": [
        "dict([('method_1', 0.5), ('method_2', 0.2), ('method_3', 0.8)])"
      ],
      "id": "de434076",
      "execution_count": null,
      "outputs": []
    },
    {
      "cell_type": "markdown",
      "metadata": {
        "id": "d6ff5fd4"
      },
      "source": [
        "In addition, dict comprehensions can be used to create dictionaries from arbitrary\n",
        "key and value expressions:"
      ],
      "id": "d6ff5fd4"
    },
    {
      "cell_type": "code",
      "metadata": {
        "id": "8078a066"
      },
      "source": [
        "{x: x**2 for x in (2, 4, 6)}"
      ],
      "id": "8078a066",
      "execution_count": null,
      "outputs": []
    },
    {
      "cell_type": "markdown",
      "metadata": {
        "id": "dc54cdf7"
      },
      "source": [
        "## 3.4 Looping techniques"
      ],
      "id": "dc54cdf7"
    },
    {
      "cell_type": "markdown",
      "metadata": {
        "id": "18b0ce27"
      },
      "source": [
        "When looping through dictionaries, the key and corresponding value can be retrieved at the \n",
        "same time using the items() method."
      ],
      "id": "18b0ce27"
    },
    {
      "cell_type": "code",
      "metadata": {
        "id": "98565858"
      },
      "source": [
        "knights = {'gallahad': 'the pure', 'robin': 'the brave'}\n",
        "for k, v in knights.items():\n",
        "    print(k, v)"
      ],
      "id": "98565858",
      "execution_count": null,
      "outputs": []
    },
    {
      "cell_type": "markdown",
      "metadata": {
        "id": "f4205606"
      },
      "source": [
        "When looping through a sequence, the position index and corresponding value can be retrieved \n",
        "at the same time using the enumerate() function (we saw it in last tutorial)"
      ],
      "id": "f4205606"
    },
    {
      "cell_type": "code",
      "metadata": {
        "id": "dce2b5a5"
      },
      "source": [
        "for i, v in enumerate(['tic', 'tac', 'toe']):\n",
        "    print(i, v)"
      ],
      "id": "dce2b5a5",
      "execution_count": null,
      "outputs": []
    },
    {
      "cell_type": "markdown",
      "metadata": {
        "id": "1946d0b5"
      },
      "source": [
        "To loop over two or more sequences at the same time, the entries can be paired with the zip() \n",
        "function."
      ],
      "id": "1946d0b5"
    },
    {
      "cell_type": "code",
      "metadata": {
        "id": "f1e5ef3d"
      },
      "source": [
        "questions = ['name', 'quest', 'favorite color']\n",
        "answers = ['lancelot', 'the holy grail', 'blue']\n",
        "for q, a in zip(questions, answers):\n",
        "    print('What is your {0}?  It is {1}.'.format(q, a))"
      ],
      "id": "f1e5ef3d",
      "execution_count": null,
      "outputs": []
    },
    {
      "cell_type": "markdown",
      "metadata": {
        "id": "4605c6d5"
      },
      "source": [
        "## Exercise\n",
        "We are exploring different methods to obtain a ripple probability, and we want to know which is the\n",
        "best one. In addition to try several methods, we have also tried different parameters for each method,\n",
        "so we also want to know which combination of method + parameter is the best one.\n",
        "\n",
        "For that, we have stored our results in a dictionary like this:"
      ],
      "id": "4605c6d5"
    },
    {
      "cell_type": "code",
      "metadata": {
        "id": "a89a1d96"
      },
      "source": [
        "# Dictionary with performances \n",
        "\n",
        "#                Methods         <------  all sessions ------>\n",
        "performances = {'method_1' : [ [.2, .4, .6, .8, .4, .5, .3, .1],   # parameter 0\n",
        "                               [.4, .2, .8, .4, .0, .1, .5, .2],   # parameter 1\n",
        "                               [.2, .8, .7, .4, .8, .7, .9, .8]],  # parameter 2\n",
        "\n",
        "                'method_2' : [ [.6, .4, .6, .5, .5, .4, .6, .6],   # parameter 0\n",
        "                               [.2, .8, .7, .5, .0, .0, .1, .8]],  # parameter 1\n",
        "\n",
        "                'method_3' : [ [.1, .1, .2, .2, .1, .2, .1, .5],   # parameter 0\n",
        "                               [.1, .6, .2, .4, .5, .1, .2, .8],   # parameter 1\n",
        "                               [.8, .6, .8, .9, .4, .1, .2, .8],   # parameter 2\n",
        "                               [.2, .1, .1, .2, .4, .6, .1, .2]],  # parameter 3\n",
        "                }"
      ],
      "id": "a89a1d96",
      "execution_count": null,
      "outputs": []
    },
    {
      "cell_type": "markdown",
      "metadata": {
        "id": "09d2af3f"
      },
      "source": [
        "Try to extract the mean performance of each method and parameter"
      ],
      "id": "09d2af3f"
    },
    {
      "cell_type": "code",
      "metadata": {
        "id": "a07921b8"
      },
      "source": [
        "# Tip: make a new dictionary with an empty list for each method, \n",
        "#      and append the mean performance of each parameter\n",
        "mean_perfs = {method:[] for method in performances}\n",
        "\n",
        "# Write your code here"
      ],
      "id": "a07921b8",
      "execution_count": null,
      "outputs": []
    }
  ]
}