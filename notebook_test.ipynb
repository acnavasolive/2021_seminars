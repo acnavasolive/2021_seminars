{
  "nbformat": 4,
  "nbformat_minor": 5,
  "metadata": {
    "colab": {
      "name": "notebook-test.ipynb",
      "provenance": [],
      "include_colab_link": true
    }
  },
  "cells": [
    {
      "cell_type": "markdown",
      "metadata": {
        "id": "view-in-github",
        "colab_type": "text"
      },
      "source": [
        "<a href=\"https://colab.research.google.com/github/acnavasolive/2021_seminars/blob/main/notebook_test.ipynb\" target=\"_parent\"><img src=\"https://colab.research.google.com/assets/colab-badge.svg\" alt=\"Open In Colab\"/></a>"
      ]
    },
    {
      "cell_type": "markdown",
      "metadata": {
        "id": "a5b7a677"
      },
      "source": [
        "# Primera prueba con cambios"
      ],
      "id": "a5b7a677"
    },
    {
      "cell_type": "markdown",
      "metadata": {
        "id": "1551a11e"
      },
      "source": [
        "The simplest notebook. Markdown cells are embedded in comments, \n",
        "so the file is a valid `python` script. \n",
        "Be sure to **leave a space** after the comment character!"
      ],
      "id": "1551a11e"
    },
    {
      "cell_type": "code",
      "metadata": {
        "id": "0081f6aa"
      },
      "source": [
        "print(\"Hello, IPython\")"
      ],
      "id": "0081f6aa",
      "execution_count": null,
      "outputs": []
    }
  ]
}