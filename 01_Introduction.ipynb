{
  "nbformat": 4,
  "nbformat_minor": 5,
  "metadata": {
    "kernelspec": {
      "display_name": "Python 3",
      "language": "python",
      "name": "python3"
    },
    "language_info": {
      "codemirror_mode": {
        "name": "ipython",
        "version": 3
      },
      "file_extension": ".py",
      "mimetype": "text/x-python",
      "name": "python",
      "nbconvert_exporter": "python",
      "pygments_lexer": "ipython3",
      "version": "3.8.5"
    },
    "colab": {
      "name": "01_Introduction.ipynb",
      "provenance": [],
      "include_colab_link": true
    }
  },
  "cells": [
    {
      "cell_type": "markdown",
      "metadata": {
        "id": "view-in-github",
        "colab_type": "text"
      },
      "source": [
        "<a href=\"https://colab.research.google.com/github/acnavasolive/2021_seminars/blob/main/01_Introduction.ipynb\" target=\"_parent\"><img src=\"https://colab.research.google.com/assets/colab-badge.svg\" alt=\"Open In Colab\"/></a>"
      ]
    },
    {
      "cell_type": "markdown",
      "metadata": {
        "id": "8c77b32f"
      },
      "source": [
        "# 1. Introduction\n",
        "\n",
        "We will follow a standard python tutorial offered by python \n",
        "so you have a reference with which to go further\n",
        "\n",
        "Complete tutorial: https://docs.python.org/3/tutorial/\n",
        "\n",
        "## An Informal Introduction to Python\n",
        "\n",
        "<a href=\"https://docs.python.org/3/tutorial/introduction.html\" target=\"_blank\">An Informal Introduction to Python </a>"
      ],
      "id": "8c77b32f"
    },
    {
      "cell_type": "markdown",
      "metadata": {
        "id": "68cd27c2"
      },
      "source": [
        "## 1.1 Using python as a Calculator"
      ],
      "id": "68cd27c2"
    },
    {
      "cell_type": "markdown",
      "metadata": {
        "id": "651441f7"
      },
      "source": [
        "### 1.1.1 Numbers and basic operations"
      ],
      "id": "651441f7"
    },
    {
      "cell_type": "code",
      "metadata": {
        "id": "d5ac2369"
      },
      "source": [
        "1 + 1"
      ],
      "id": "d5ac2369",
      "execution_count": null,
      "outputs": []
    },
    {
      "cell_type": "code",
      "metadata": {
        "id": "993a73c9"
      },
      "source": [
        "3 * 2"
      ],
      "id": "993a73c9",
      "execution_count": null,
      "outputs": []
    },
    {
      "cell_type": "code",
      "metadata": {
        "id": "43aae01d"
      },
      "source": [
        "3 ** 2"
      ],
      "id": "43aae01d",
      "execution_count": null,
      "outputs": []
    },
    {
      "cell_type": "code",
      "metadata": {
        "id": "47e5650d"
      },
      "source": [
        "5 / 6"
      ],
      "id": "47e5650d",
      "execution_count": null,
      "outputs": []
    },
    {
      "cell_type": "code",
      "metadata": {
        "id": "cdc5f55d"
      },
      "source": [
        "5 // 6"
      ],
      "id": "cdc5f55d",
      "execution_count": null,
      "outputs": []
    },
    {
      "cell_type": "markdown",
      "metadata": {
        "id": "5a80ed87"
      },
      "source": [
        "### 1.1.2 Variables\n",
        "\n",
        "Saving values in variables"
      ],
      "id": "5a80ed87"
    },
    {
      "cell_type": "code",
      "metadata": {
        "id": "4f8b930b"
      },
      "source": [
        "width = 20\n",
        "height = 5 * 9\n",
        "width * height"
      ],
      "id": "4f8b930b",
      "execution_count": null,
      "outputs": []
    },
    {
      "cell_type": "markdown",
      "metadata": {
        "id": "8e412b7d"
      },
      "source": [
        "If a variable is not “defined” (assigned a value), trying to use it will give you an error:"
      ],
      "id": "8e412b7d"
    },
    {
      "cell_type": "code",
      "metadata": {
        "id": "943d4c8d"
      },
      "source": [
        "depth"
      ],
      "id": "943d4c8d",
      "execution_count": null,
      "outputs": []
    },
    {
      "cell_type": "markdown",
      "metadata": {
        "id": "0cb6b228"
      },
      "source": [
        "### 1.1.3 Strings\n",
        "\n",
        "Besides numbers, Python can also manipulate strings, which can be expressed in several ways. \n",
        "They can be enclosed in single quotes (`'...'`) or double quotes (`\"...\"`) with the same result"
      ],
      "id": "0cb6b228"
    },
    {
      "cell_type": "code",
      "metadata": {
        "id": "ebee0060"
      },
      "source": [
        "'spam eggs'  # single quotes"
      ],
      "id": "ebee0060",
      "execution_count": null,
      "outputs": []
    },
    {
      "cell_type": "code",
      "metadata": {
        "id": "aefaa305"
      },
      "source": [
        "\"spam eggs\"  # ...or use double quotes instead"
      ],
      "id": "aefaa305",
      "execution_count": null,
      "outputs": []
    },
    {
      "cell_type": "code",
      "metadata": {
        "id": "5082ea86"
      },
      "source": [
        "variable = \"spam eggs\"\n",
        "print(variable)  # Better to use the print() function"
      ],
      "id": "5082ea86",
      "execution_count": null,
      "outputs": []
    },
    {
      "cell_type": "markdown",
      "metadata": {
        "id": "6087a546"
      },
      "source": [
        "String literals can span multiple lines. One way is using triple-quotes: `\"\"\"...\"\"\"` or `'''...'''`"
      ],
      "id": "6087a546"
    },
    {
      "cell_type": "code",
      "metadata": {
        "id": "0ae9ee68"
      },
      "source": [
        "print(\"\"\" It is possible to use\n",
        "\t\t  several lines \n",
        "\t\t  \"\"\")"
      ],
      "id": "0ae9ee68",
      "execution_count": null,
      "outputs": []
    },
    {
      "cell_type": "markdown",
      "metadata": {
        "id": "e28948b4"
      },
      "source": [
        "Strings are usually used to comment the code so we know what's going on"
      ],
      "id": "e28948b4"
    },
    {
      "cell_type": "code",
      "metadata": {
        "id": "b8da072c"
      },
      "source": [
        "# It is possible to write comments in this way, with the \"#\""
      ],
      "id": "b8da072c",
      "execution_count": null,
      "outputs": []
    },
    {
      "cell_type": "code",
      "metadata": {
        "id": "d5d68d86"
      },
      "source": [
        "\"\"\"\n",
        "But if want to write much larger comments\n",
        "then it's better this way\n",
        "\"\"\""
      ],
      "id": "d5d68d86",
      "execution_count": null,
      "outputs": []
    },
    {
      "cell_type": "markdown",
      "metadata": {
        "id": "96cf00ab"
      },
      "source": [
        "If you want to concatenate variables or a variable and a literal, use `+`:"
      ],
      "id": "96cf00ab"
    },
    {
      "cell_type": "code",
      "metadata": {
        "id": "d48587e1"
      },
      "source": [
        "prefix = 'Py'\n",
        "print( prefix + 'thon' )"
      ],
      "id": "d48587e1",
      "execution_count": null,
      "outputs": []
    },
    {
      "cell_type": "markdown",
      "metadata": {
        "id": "2f072bc0"
      },
      "source": [
        "Strings can be indexed (subscripted), with the first character having index 0. \n",
        "There is no separate character type; a character is simply a string of size one:"
      ],
      "id": "2f072bc0"
    },
    {
      "cell_type": "code",
      "metadata": {
        "id": "7a5f6e86"
      },
      "source": [
        "word = 'Python'\n",
        "print(word[0])\n",
        "print(word[1])\n",
        "print(word[5])"
      ],
      "id": "7a5f6e86",
      "execution_count": null,
      "outputs": []
    },
    {
      "cell_type": "markdown",
      "metadata": {
        "id": "32105e95"
      },
      "source": [
        "Indices may also be negative numbers, to start counting from the right:"
      ],
      "id": "32105e95"
    },
    {
      "cell_type": "code",
      "metadata": {
        "id": "c8fc96d0"
      },
      "source": [
        "print(word[-1])  # last character\n",
        "print(word[-2])  # second-last character\n",
        "print(word[-6])"
      ],
      "id": "c8fc96d0",
      "execution_count": null,
      "outputs": []
    },
    {
      "cell_type": "markdown",
      "metadata": {
        "id": "fcf3dfbb"
      },
      "source": [
        "Note that since -0 is the same as 0, negative indices start from -1.\n",
        "\n",
        "In addition to indexing, slicing is also supported. While indexing is used to obtain individual characters, slicing allows you to obtain substring:"
      ],
      "id": "fcf3dfbb"
    },
    {
      "cell_type": "code",
      "metadata": {
        "id": "19dd678a"
      },
      "source": [
        "print(word[0:2])  # characters from position 0 (included) to 2 (excluded)\n",
        "print(word[2:5])  # characters from position 2 (included) to 5 (excluded)"
      ],
      "id": "19dd678a",
      "execution_count": null,
      "outputs": []
    },
    {
      "cell_type": "markdown",
      "metadata": {
        "id": "02328d9f"
      },
      "source": [
        "Slice indices have useful defaults; an omitted first index defaults to zero, an omitted second index defaults to the size of the string being sliced."
      ],
      "id": "02328d9f"
    },
    {
      "cell_type": "code",
      "metadata": {
        "id": "3b266cb0"
      },
      "source": [
        "print(word[:2])   # character from the beginning to position 2 (excluded)\n",
        "print(word[4:])   # characters from position 4 (included) to the end\n",
        "print(word[-2:])  # characters from the second-last (included) to the end"
      ],
      "id": "3b266cb0",
      "execution_count": null,
      "outputs": []
    },
    {
      "cell_type": "markdown",
      "metadata": {
        "id": "813f4e62"
      },
      "source": [
        "Note how the start is always included, and the end always excluded. This makes sure that s[:i] + s[i:] is always equal to s:"
      ],
      "id": "813f4e62"
    },
    {
      "cell_type": "code",
      "metadata": {
        "id": "f8eb428f"
      },
      "source": [
        "print(word[:2] + word[2:])\n",
        "print(word[:4] + word[4:])"
      ],
      "id": "f8eb428f",
      "execution_count": null,
      "outputs": []
    },
    {
      "cell_type": "markdown",
      "metadata": {
        "id": "77b54f8f"
      },
      "source": [
        "One way to remember how slices work is to think of the indices as pointing between characters, with the left edge of the first character numbered 0. Then the right edge of the last character of a string of n characters has index n, for example:"
      ],
      "id": "77b54f8f"
    },
    {
      "cell_type": "code",
      "metadata": {
        "id": "4bb89dab"
      },
      "source": [
        "#  +---+---+---+---+---+---+\n",
        "#  | P | y | t | h | o | n |\n",
        "#  +---+---+---+---+---+---+\n",
        "#  0   1   2   3   4   5   6\n",
        "# -6  -5  -4  -3  -2  -1"
      ],
      "id": "4bb89dab",
      "execution_count": null,
      "outputs": []
    },
    {
      "cell_type": "markdown",
      "metadata": {
        "id": "1f62c1a6"
      },
      "source": [
        "The first row of numbers gives the position of the indices 0…6 in the string; the second row gives the \n",
        "corresponding negative indices. The slice from i to j consists of all characters between the edges labeled i and j, respectively.\n",
        "\n",
        "For non-negative indices, the length of a slice is the difference of the indices, if both are within bounds. \n",
        "For example, the length of word[1:3] is 2.\n",
        "\n",
        "he built-in function len() returns the length of a string:"
      ],
      "id": "1f62c1a6"
    },
    {
      "cell_type": "code",
      "metadata": {
        "id": "99037d27"
      },
      "source": [
        "len(word[1:3])"
      ],
      "id": "99037d27",
      "execution_count": null,
      "outputs": []
    },
    {
      "cell_type": "code",
      "metadata": {
        "id": "8fef72b4"
      },
      "source": [
        "len('supercalifragilisticexpialidocious')"
      ],
      "id": "8fef72b4",
      "execution_count": null,
      "outputs": []
    },
    {
      "cell_type": "code",
      "metadata": {
        "id": "7045d082"
      },
      "source": [
        "len(word)\n",
        "\n",
        "# Attempting to use an index that is too large will result in an error:"
      ],
      "id": "7045d082",
      "execution_count": null,
      "outputs": []
    },
    {
      "cell_type": "code",
      "metadata": {
        "id": "42ec9eca"
      },
      "source": [
        "word[42]  # the word only has 6 characters"
      ],
      "id": "42ec9eca",
      "execution_count": null,
      "outputs": []
    },
    {
      "cell_type": "markdown",
      "metadata": {
        "id": "a612fffc"
      },
      "source": [
        "However, out of range slice indexes are handled gracefully when used for slicing:"
      ],
      "id": "a612fffc"
    },
    {
      "cell_type": "code",
      "metadata": {
        "id": "9be0ba03"
      },
      "source": [
        "word[4:42]"
      ],
      "id": "9be0ba03",
      "execution_count": null,
      "outputs": []
    },
    {
      "cell_type": "code",
      "metadata": {
        "id": "04014ccc"
      },
      "source": [
        "word[42:]"
      ],
      "id": "04014ccc",
      "execution_count": null,
      "outputs": []
    },
    {
      "cell_type": "markdown",
      "metadata": {
        "id": "98a51e70"
      },
      "source": [
        "### 1.1.3. Lists\n",
        "\n",
        "Python knows a number of compound data types, used to group together other values. \n",
        "The most versatile is the list, which can be written as a list of comma-separated values \n",
        "(items) between square brackets. Lists might contain items of different types, but usually \n",
        "the items all have the same type."
      ],
      "id": "98a51e70"
    },
    {
      "cell_type": "code",
      "metadata": {
        "id": "c98d3f32"
      },
      "source": [
        "squares = [1, 4, 9, 16, 25]\n",
        "print(squares)"
      ],
      "id": "c98d3f32",
      "execution_count": null,
      "outputs": []
    },
    {
      "cell_type": "markdown",
      "metadata": {
        "id": "750ec348"
      },
      "source": [
        "Like strings (and all other built-in sequence types), lists can be indexed and sliced:"
      ],
      "id": "750ec348"
    },
    {
      "cell_type": "code",
      "metadata": {
        "id": "396865a2"
      },
      "source": [
        "print(squares[0])  # indexing returns the item"
      ],
      "id": "396865a2",
      "execution_count": null,
      "outputs": []
    },
    {
      "cell_type": "code",
      "metadata": {
        "id": "ae6e8d2e"
      },
      "source": [
        "print(squares[-1])"
      ],
      "id": "ae6e8d2e",
      "execution_count": null,
      "outputs": []
    },
    {
      "cell_type": "code",
      "metadata": {
        "id": "c7bd7287"
      },
      "source": [
        "print(squares[-3:])  # slicing returns a new list"
      ],
      "id": "c7bd7287",
      "execution_count": null,
      "outputs": []
    },
    {
      "cell_type": "markdown",
      "metadata": {
        "id": "b260f0d5"
      },
      "source": [
        "All slice operations return a new list containing the requested elements. \n",
        "This means that the following slice returns a shallow copy of the list:"
      ],
      "id": "b260f0d5"
    },
    {
      "cell_type": "code",
      "metadata": {
        "id": "86d7e53a"
      },
      "source": [
        "print(squares[:])"
      ],
      "id": "86d7e53a",
      "execution_count": null,
      "outputs": []
    },
    {
      "cell_type": "markdown",
      "metadata": {
        "id": "120c8c39"
      },
      "source": [
        "Lists also support operations like concatenation:"
      ],
      "id": "120c8c39"
    },
    {
      "cell_type": "code",
      "metadata": {
        "id": "48963136"
      },
      "source": [
        "squares + [36, 49, 64, 81, 100]"
      ],
      "id": "48963136",
      "execution_count": null,
      "outputs": []
    },
    {
      "cell_type": "markdown",
      "metadata": {
        "id": "52c77c50"
      },
      "source": [
        "Unlike strings, which are immutable, lists are a mutable type, i.e. it is possible to change their content:"
      ],
      "id": "52c77c50"
    },
    {
      "cell_type": "code",
      "metadata": {
        "id": "2825f075"
      },
      "source": [
        "cubes = [1, 7, 27, 64, 125]  # something's wrong here\n",
        "cubes[1] = 8  # replace the wrong value\n",
        "print(cubes)"
      ],
      "id": "2825f075",
      "execution_count": null,
      "outputs": []
    },
    {
      "cell_type": "markdown",
      "metadata": {
        "id": "174c8601"
      },
      "source": [
        "You can also add new items at the end of the list, by using the append() method (we will see more about methods later):"
      ],
      "id": "174c8601"
    },
    {
      "cell_type": "code",
      "metadata": {
        "id": "6c6c0a68"
      },
      "source": [
        "cubes.append(216)  # add the cube of 6\n",
        "cubes.append(7 ** 3)  # and the cube of 7\n",
        "print(cubes)"
      ],
      "id": "6c6c0a68",
      "execution_count": null,
      "outputs": []
    },
    {
      "cell_type": "markdown",
      "metadata": {
        "id": "d344c20a"
      },
      "source": [
        "With strings"
      ],
      "id": "d344c20a"
    },
    {
      "cell_type": "code",
      "metadata": {
        "id": "75fd23c0"
      },
      "source": [
        "letters = ['a', 'b', 'c', 'd', 'e', 'f', 'g']\n",
        "print(letters)"
      ],
      "id": "75fd23c0",
      "execution_count": null,
      "outputs": []
    },
    {
      "cell_type": "markdown",
      "metadata": {
        "id": "93b279a6"
      },
      "source": [
        "Assignment to slices is also possible, and this can even change the size of the list or clear it entirely:"
      ],
      "id": "93b279a6"
    },
    {
      "cell_type": "code",
      "metadata": {
        "id": "ca30f5ea"
      },
      "source": [
        "letters[2:5] = ['C', 'D', 'E']\n",
        "print(letters)"
      ],
      "id": "ca30f5ea",
      "execution_count": null,
      "outputs": []
    },
    {
      "cell_type": "markdown",
      "metadata": {
        "id": "ae992723"
      },
      "source": [
        "Now remove them"
      ],
      "id": "ae992723"
    },
    {
      "cell_type": "code",
      "metadata": {
        "id": "2db5f67e"
      },
      "source": [
        "letters[2:5] = []\n",
        "print(letters)"
      ],
      "id": "2db5f67e",
      "execution_count": null,
      "outputs": []
    },
    {
      "cell_type": "markdown",
      "metadata": {
        "id": "e5b0ca44"
      },
      "source": [
        "The built-in function len() also applies to lists:"
      ],
      "id": "e5b0ca44"
    },
    {
      "cell_type": "code",
      "metadata": {
        "id": "87f653fb"
      },
      "source": [
        "letters = ['a', 'b', 'c', 'd']\n",
        "print(len(letters))"
      ],
      "id": "87f653fb",
      "execution_count": null,
      "outputs": []
    },
    {
      "cell_type": "markdown",
      "metadata": {
        "id": "e8b798ae"
      },
      "source": [
        "It is possible to nest lists (create lists containing other lists), for example:"
      ],
      "id": "e8b798ae"
    },
    {
      "cell_type": "code",
      "metadata": {
        "id": "744d92d3"
      },
      "source": [
        "a = ['a', 'b', 'c']\n",
        "n = [1, 2, 3]\n",
        "x = [a, n]\n",
        "print(x)"
      ],
      "id": "744d92d3",
      "execution_count": null,
      "outputs": []
    },
    {
      "cell_type": "code",
      "metadata": {
        "id": "53a64685"
      },
      "source": [
        "pritn(x[0])\n",
        "pritn(x[0][1])"
      ],
      "id": "53a64685",
      "execution_count": null,
      "outputs": []
    },
    {
      "cell_type": "markdown",
      "metadata": {
        "id": "05bbd612"
      },
      "source": [
        "## 1.2 First Steps Towards Programming\n",
        "\n",
        "Of course, we can use Python for more complicated tasks than adding two and two together. \n",
        "For instance, we can write an initial sub-sequence of the Fibonacci series as follows:"
      ],
      "id": "05bbd612"
    },
    {
      "cell_type": "code",
      "metadata": {
        "id": "48213b2b"
      },
      "source": [
        "# Fibonacci series:\n",
        "# the sum of two elements defines the next\n",
        "a, b = 0, 1\n",
        "while a < 10:\n",
        "\tprint(a, end=',')\n",
        "\ta, b = b, a+b"
      ],
      "id": "48213b2b",
      "execution_count": null,
      "outputs": []
    }
  ]
}